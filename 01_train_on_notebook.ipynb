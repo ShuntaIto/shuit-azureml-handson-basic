{
 "cells": [
  {
   "cell_type": "code",
   "execution_count": null,
   "metadata": {},
   "outputs": [],
   "source": [
    "from azure.ai.ml import MLClient\n",
    "from azure.ai.ml.entities import Data\n",
    "from azure.identity import DefaultAzureCredential\n",
    "from azure.ai.ml.constants import AssetTypes\n",
    "\n",
    "import pandas as pd\n",
    "import lightgbm\n",
    "from sklearn.model_selection import train_test_split\n",
    "import mlflow"
   ]
  },
  {
   "cell_type": "code",
   "execution_count": null,
   "metadata": {},
   "outputs": [],
   "source": [
    "# If error is thrown with below cell because config.json is not found, os.chdir may solve the problem.\n",
    "import os\n",
    "os.chdir(path=\"/mnt/batch/tasks/shared/LS_root/mounts/clusters/shuitcpueastus01/code/Users/<alias>/<dir>\")"
   ]
  },
  {
   "cell_type": "code",
   "execution_count": null,
   "metadata": {},
   "outputs": [],
   "source": [
    "# Before run this cell, prepare config.json and place repository root.\n",
    "ml_client = MLClient.from_config(credential=DefaultAzureCredential(exclude_shared_token_cache_credential=True),\n",
    "                     logging_enable=True)"
   ]
  },
  {
   "cell_type": "code",
   "execution_count": null,
   "metadata": {},
   "outputs": [],
   "source": [
    "azureml_mlflow_uri = ml_client.workspaces.get(ml_client.workspace_name).mlflow_tracking_uri\n",
    "mlflow.set_tracking_uri(azureml_mlflow_uri)"
   ]
  },
  {
   "cell_type": "code",
   "execution_count": null,
   "metadata": {},
   "outputs": [],
   "source": [
    "experiment_name = 'nyc_taxi_regression_notebook'\n",
    "mlflow.set_experiment(experiment_name)"
   ]
  },
  {
   "cell_type": "code",
   "execution_count": null,
   "metadata": {},
   "outputs": [],
   "source": [
    "train = pd.read_csv(\"data/nyc_taxi_train_dataset.csv\")\n",
    "test = pd.read_csv(\"data/nyc_taxi_test_dataset.csv\")\n",
    "\n",
    "x_train = train[train.columns[train.columns != \"totalAmount\"]]\n",
    "y_train = train[\"totalAmount\"]\n",
    "\n",
    "x_test = test[test.columns[test.columns != \"totalAmount\"]]\n",
    "y_test = test[\"totalAmount\"]"
   ]
  },
  {
   "cell_type": "code",
   "execution_count": null,
   "metadata": {},
   "outputs": [],
   "source": [
    "params = {\n",
    "        \"boosting_type\": \"gbdt\",\n",
    "        \"metric\": \"rmse\",\n",
    "        \"learning_rate\": 0.1,\n",
    "        \"num_leaves\": 10,\n",
    "        \"min_data_in_leaf\": 2,\n",
    "        \"num_iteration\": 100,\n",
    "        \"task\": \"train\",\n",
    "        \"objective\": \"regression\",\n",
    "    }"
   ]
  },
  {
   "cell_type": "code",
   "execution_count": null,
   "metadata": {},
   "outputs": [],
   "source": [
    "with mlflow.start_run() as run:\n",
    "    mlflow.lightgbm.autolog(registered_model_name=\"nyc_taxi_regressor_lightgbm\")\n",
    "    train_dataset = lightgbm.Dataset(x_train, y_train)\n",
    "    test_dataset = lightgbm.Dataset(x_test, y_test, reference=train_dataset)\n",
    "    gbm = lightgbm.train(params, train_dataset, num_boost_round=50, valid_sets=test_dataset, early_stopping_rounds=10)"
   ]
  },
  {
   "cell_type": "code",
   "execution_count": null,
   "metadata": {},
   "outputs": [],
   "source": []
  }
 ],
 "metadata": {
  "kernelspec": {
   "display_name": "azureml_ak_handson_env",
   "language": "python",
   "name": "azureml_ak_handson_env"
  },
  "language_info": {
   "codemirror_mode": {
    "name": "ipython",
    "version": 3
   },
   "file_extension": ".py",
   "mimetype": "text/x-python",
   "name": "python",
   "nbconvert_exporter": "python",
   "pygments_lexer": "ipython3",
   "version": "3.10.6"
  },
  "orig_nbformat": 4
 },
 "nbformat": 4,
 "nbformat_minor": 2
}
